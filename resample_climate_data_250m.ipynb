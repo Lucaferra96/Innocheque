{
 "cells": [
  {
   "cell_type": "markdown",
   "metadata": {},
   "source": [
    "# Chelsa_V2_Monthly Data Resampling\n",
    "\n",
    "This repository contains a Jupyter Notebook script that focuses on resampling raster data using ArcPy, a Python library for geospatial data analysis. The script takes raster data representing various climate variables and resamples them from a 1 km to a 250 m resolution using the bilinear resampling method.\n",
    "\n",
    "## Prerequisites\n",
    "\n",
    "To run the script, ensure you have the following installed:\n",
    "\n",
    "- ArcGIS Desktop with ArcPy (version compatible with the script)\n",
    "- Required raster data files in the specified directories\n",
    "\n",
    "## Usage\n",
    "\n",
    "1. Open the Jupyter Notebook in your ArcGIS environment.\n",
    "2. Modify the paths and parameters in the code to match your data and requirements.\n",
    "3. Run the script cells sequentially to perform the resampling steps.\n",
    "\n",
    "## Script Overview\n",
    "\n",
    "The script performs the following main tasks:\n",
    "\n",
    "### 1. Import Packages and Set Environment\n",
    "\n",
    "The necessary Python packages are imported, and the ArcGIS environment is set up.\n",
    "\n",
    "### 2. Data Resampling\n",
    "\n",
    "The script iterates through specified folders containing raster data files and performs a resampling operation on each raster file. The output is saved in new output folders, maintaining the original file structure and geographical information. The bilinear resampling method is used for resampling.\n",
    "\n",
    "### 3. Important Notes\n",
    "\n",
    "- Ensure that the ArcGIS environment is set up correctly before running the script.\n",
    "- Modify input and output paths as needed.\n",
    "- Adjust the cell size, resampling method, and other parameters during raster resampling to suit your needs.\n",
    "\n",
    "## Author\n",
    "\n",
    "Script written by Luca Ferrari\n",
    "Contact: luca.ferrari@usys.ethz.ch\n",
    "\n",
    "For any inquiries or assistance, please reach out to the author.\n",
    "\n",
    "This README content was generated with the assistance of an AI language model from OpenAI. The provided content is based on user input and has been tailored to the specific requirements of the project."
   ]
  },
  {
   "cell_type": "code",
   "execution_count": null,
   "metadata": {},
   "outputs": [],
   "source": [
    "# %% Import packages\n",
    "import arcpy\n",
    "from arcpy import env\n",
    "import os\n",
    "import re\n",
    "import time\n",
    "arcpy.CheckOutExtension(\"Spatial\")"
   ]
  },
  {
   "cell_type": "code",
   "execution_count": null,
   "metadata": {},
   "outputs": [],
   "source": [
    "# %% Define workspace\n",
    "env.workspace = r\"N:\\Luca_data\"\n",
    "arcpy.env.overwriteOutput = True\n",
    "\n",
    "folders = [\"Output_Switzerland_pr_mm_LV95\", \"Output_Switzerland_tasmax_celsius_LV95\", \"Output_Switzerland_tasmin_celsius_LV95\", \"Output_Switzerland_fst_days_LV95\", \"Output_Switzerland_rsds_MJm-2d-1_LV95\", \"Output_Switzerland_vpd_mbar_LV95\"]\n"
   ]
  },
  {
   "cell_type": "code",
   "execution_count": null,
   "metadata": {},
   "outputs": [],
   "source": [
    "# Iterate over each folder\n",
    "for folder in folders:\n",
    "    folder_path = os.path.join(env.workspace, \"Chelsa_V2_Monthly\\Swiss data\", folder)\n",
    "\n",
    "    # Specify the output path\n",
    "    match = re.search(r\"(Switzerland_\\w+)_\\w+_\", folder)\n",
    "    extracted_word = match.group(1)\n",
    "    output_path_resampled = os.path.join(env.workspace, \"Chelsa_V2_Monthly\\Resampled data 250m\", extracted_word)\n",
    "\n",
    "    # Create output folder if it does not exist\n",
    "    if not os.path.exists(output_path_resampled):\n",
    "        os.makedirs(output_path_resampled)\n",
    "\n",
    "    # Get the list of files in the directory using os.scandir()\n",
    "    with os.scandir(folder_path) as entries:\n",
    "        # Filter out directories and get only file names\n",
    "        file_names = [entry.name for entry in entries if entry.is_file()]\n",
    "        # Filter the list to only include .tif files\n",
    "        file_names = [f for f in file_names if f.endswith('.tif')]\n",
    "\n",
    "    # Iterate over the files in the directory\n",
    "    for file_name in file_names:\n",
    "        # Create the full path to the file\n",
    "        file_path = os.path.join(folder_path, file_name)\n",
    "\n",
    "        output_file_path_resampled =  os.path.join(output_path_resampled, file_name)\n",
    "\n",
    "        with arcpy.EnvManager(snapRaster=file_path):\n",
    "            arcpy.management.Resample(\n",
    "                in_raster=file_path,\n",
    "                out_raster=output_file_path_resampled,\n",
    "                cell_size=\"213.67026306304 213.67026306304\",\n",
    "                resampling_type=\"BILINEAR\"\n",
    "            )\n",
    "\n",
    "        # Print progress or other relevant information\n",
    "        print(f\"Processed: {file_path} -> {output_file_path_resampled}\\n\")"
   ]
  }
 ],
 "metadata": {
  "kernelspec": {
   "display_name": "arcgispro-py3-clone",
   "language": "python",
   "name": "python3"
  },
  "language_info": {
   "codemirror_mode": {
    "name": "ipython",
    "version": 3
   },
   "file_extension": ".py",
   "mimetype": "text/x-python",
   "name": "python",
   "nbconvert_exporter": "python",
   "pygments_lexer": "ipython3",
   "version": "3.9.16"
  },
  "orig_nbformat": 4
 },
 "nbformat": 4,
 "nbformat_minor": 2
}
